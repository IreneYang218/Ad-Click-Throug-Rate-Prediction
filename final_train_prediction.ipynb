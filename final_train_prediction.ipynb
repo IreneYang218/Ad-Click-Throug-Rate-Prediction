{
 "cells": [
  {
   "cell_type": "code",
   "execution_count": 1,
   "metadata": {},
   "outputs": [],
   "source": [
    "from sklearn.model_selection import KFold\n",
    "import numpy as np\n",
    "import pandas as pd\n",
    "import datetime as dt\n",
    "from matplotlib import pyplot as plt"
   ]
  },
  {
   "cell_type": "code",
   "execution_count": 2,
   "metadata": {},
   "outputs": [],
   "source": [
    "def split_based_hour(data):\n",
    "    \"\"\" Split data based on column hour.\n",
    "    \n",
    "    Use 20% of the date for validation.\n",
    "    Inputs:\n",
    "       data: dataframe from avazu\n",
    "    Returns:\n",
    "       train:\n",
    "       val: 20% of the largest values of column \"hour\".\n",
    "    \"\"\"\n",
    "    N = int(0.8*len(data))\n",
    "    data = data.sort_values(by=\"hour\")\n",
    "    train = data[:N].copy()\n",
    "    val = data[N:].copy()\n",
    "    return train.reset_index(), val.reset_index()"
   ]
  },
  {
   "cell_type": "code",
   "execution_count": 3,
   "metadata": {},
   "outputs": [],
   "source": [
    "def reg_target_encoding(train, col = \"device_type\", splits=5):\n",
    "    \"\"\" Computes regularize mean encoding.\n",
    "    Inputs:\n",
    "       train: training dataframe\n",
    "       \n",
    "    \"\"\"\n",
    "    # YOUR CODE HERE\n",
    "    kf = KFold(n_splits=splits, random_state=None, shuffle=False)\n",
    "    #train = train.sort_values(by='hour')\n",
    "    for train_index, val_index in kf.split(train):\n",
    "        train_tr = train.iloc[train_index].copy()\n",
    "        col_mean = train_tr.groupby(col).click.mean()\n",
    "        train.loc[val_index, col+'_mean_enc'] = train.loc[val_index, col].map(col_mean)\n",
    "    global_mean = train.click.mean()\n",
    "    train[col+'_mean_enc'].fillna(global_mean, inplace=True)"
   ]
  },
  {
   "cell_type": "code",
   "execution_count": 4,
   "metadata": {},
   "outputs": [],
   "source": [
    "def mean_encoding_test(test, train, col = \"device_type\"):\n",
    "    \"\"\" Computes target enconding for test data.\n",
    "    \n",
    "    This is similar to how we do validation\n",
    "    \"\"\"\n",
    "    \n",
    "    mean_col_type = train.groupby(col).click.mean()\n",
    "    test[col+'_mean_enc'] = test[col].map(mean_col_type)\n",
    "    global_mean = train.click.mean()\n",
    "    test[col+'_mean_enc'].fillna(global_mean, inplace=True)"
   ]
  },
  {
   "cell_type": "code",
   "execution_count": 6,
   "metadata": {
    "deletable": false,
    "editable": false,
    "nbgrader": {
     "checksum": "4b2ee7b245a73446da29cd2cb69fd8e2",
     "grade": false,
     "grade_id": "cell-e5b525e48f90cc37",
     "locked": true,
     "schema_version": 1,
     "solution": false
    }
   },
   "outputs": [],
   "source": [
    "def load_data():\n",
    "    path = \"avazu/\"\n",
    "    data = pd.read_csv(path + \"train\")\n",
    "    test = pd.read_csv(path + \"test\")\n",
    "    return data, test"
   ]
  },
  {
   "cell_type": "code",
   "execution_count": 10,
   "metadata": {
    "deletable": false,
    "nbgrader": {
     "checksum": "7bdab79fc12b9c4594f6b541b00a051d",
     "grade": true,
     "grade_id": "cell-9ed772e2cb29616a",
     "locked": false,
     "points": 10,
     "schema_version": 1,
     "solution": true
    }
   },
   "outputs": [],
   "source": [
    "types = {'id': np.uint32, 'click': np.uint8, 'hour': np.uint32, 'C1': np.uint16, 'banner_pos': np.uint16,\n",
    "         'site_id': 'category', 'site_domain': 'category', 'site_category': 'category', 'app_id': 'category',\n",
    "         'app_domain': 'category', 'app_category': 'category', 'device_id': 'category',\n",
    "         'device_ip': 'category', 'device_model': 'category', 'device_type': np.uint8, 'device_conn_type': np.uint8,\n",
    "         'C15': np.uint16, 'C16': np.uint16, 'C17': np.uint16, 'C18': np.uint8, 'C19': np.uint16,\n",
    "         'C20': np.uint16, 'C21': np.uint16}\n",
    "\n",
    "test_types = {'id': np.uint32, 'hour': np.uint32, 'C1': np.uint16, 'banner_pos': np.uint16,\n",
    "         'site_id': 'category', 'site_domain': 'category', 'site_category': 'category', 'app_id': 'category',\n",
    "         'app_domain': 'category', 'app_category': 'category', 'device_id': 'category',\n",
    "         'device_ip': 'category', 'device_model': 'category', 'device_type': np.uint8, 'device_conn_type': np.uint8,\n",
    "         'C15': np.uint16, 'C16': np.uint16, 'C17': np.uint16, 'C18': np.uint8, 'C19': np.uint16,\n",
    "         'C20': np.uint16, 'C21': np.uint16}\n",
    "\n",
    "def my_load_data():\n",
    "    path = 'avazu/'\n",
    "    data = pd.read_csv(path + 'train', usecols=types.keys(), dtype=types)\n",
    "    test = pd.read_csv(path + 'test', usecols=test_types.keys(), dtype=test_types)\n",
    "    return data,test"
   ]
  },
  {
   "cell_type": "code",
   "execution_count": 11,
   "metadata": {},
   "outputs": [],
   "source": [
    "data, test = my_load_data()"
   ]
  },
  {
   "cell_type": "code",
   "execution_count": 8,
   "metadata": {
    "scrolled": true
   },
   "outputs": [
    {
     "name": "stdout",
     "output_type": "stream",
     "text": [
      "<class 'pandas.core.frame.DataFrame'>\n",
      "RangeIndex: 40428967 entries, 0 to 40428966\n",
      "Data columns (total 23 columns):\n",
      "id                  uint32\n",
      "click               uint8\n",
      "hour                uint32\n",
      "C1                  uint16\n",
      "banner_pos          uint16\n",
      "site_id             category\n",
      "site_domain         category\n",
      "site_category       category\n",
      "app_id              category\n",
      "app_domain          category\n",
      "app_category        category\n",
      "device_id           category\n",
      "device_ip           category\n",
      "device_model        category\n",
      "device_type         uint8\n",
      "device_conn_type    uint8\n",
      "C15                 uint16\n",
      "C16                 uint16\n",
      "C17                 uint16\n",
      "C18                 uint8\n",
      "C19                 uint16\n",
      "C20                 uint16\n",
      "C21                 uint16\n",
      "dtypes: category(9), uint16(8), uint32(2), uint8(4)\n",
      "memory usage: 2.8 GB\n"
     ]
    }
   ],
   "source": [
    "data.info(memory_usage='deep')"
   ]
  },
  {
   "cell_type": "markdown",
   "metadata": {},
   "source": [
    "## Train Validation Split"
   ]
  },
  {
   "cell_type": "code",
   "execution_count": 11,
   "metadata": {},
   "outputs": [],
   "source": [
    "train,val = split_based_hour(data)"
   ]
  },
  {
   "cell_type": "markdown",
   "metadata": {},
   "source": [
    "## click mean of entire data set"
   ]
  },
  {
   "cell_type": "code",
   "execution_count": 24,
   "metadata": {},
   "outputs": [],
   "source": [
    "p_click = train.click.mean()"
   ]
  },
  {
   "cell_type": "code",
   "execution_count": 25,
   "metadata": {},
   "outputs": [
    {
     "data": {
      "text/plain": [
       "0.17146870531224626"
      ]
     },
     "execution_count": 25,
     "metadata": {},
     "output_type": "execute_result"
    }
   ],
   "source": [
    "p_click # should be teh best constant prediction"
   ]
  },
  {
   "cell_type": "markdown",
   "metadata": {},
   "source": [
    "## Time Feature"
   ]
  },
  {
   "cell_type": "code",
   "execution_count": 12,
   "metadata": {},
   "outputs": [],
   "source": [
    "def process_time(df, col):\n",
    "    df[col] = pd.to_datetime(df[col],format='%y%m%d%H')\n",
    "    df['dow'] = df[col].dt.weekday\n",
    "    df['hour_24'] = df[col].dt.hour\n",
    "    df.drop(col, axis=1, inplace=True)\n",
    "    return df"
   ]
  },
  {
   "cell_type": "code",
   "execution_count": 13,
   "metadata": {},
   "outputs": [],
   "source": [
    "train = process_time(train, 'hour')\n",
    "val = process_time(val, 'hour')"
   ]
  },
  {
   "cell_type": "code",
   "execution_count": 28,
   "metadata": {},
   "outputs": [
    {
     "data": {
      "text/plain": [
       "1    9375969\n",
       "2    5337126\n",
       "3    3870752\n",
       "6    3835892\n",
       "5    3363122\n",
       "4    3335302\n",
       "0    3225010\n",
       "Name: dow, dtype: int64"
      ]
     },
     "execution_count": 28,
     "metadata": {},
     "output_type": "execute_result"
    }
   ],
   "source": [
    "train['dow'].value_counts()"
   ]
  },
  {
   "cell_type": "code",
   "execution_count": 29,
   "metadata": {},
   "outputs": [
    {
     "data": {
      "text/plain": [
       "13    1944962\n",
       "9     1894252\n",
       "12    1775172\n",
       "8     1729277\n",
       "14    1720095\n",
       "Name: hour_24, dtype: int64"
      ]
     },
     "execution_count": 29,
     "metadata": {},
     "output_type": "execute_result"
    }
   ],
   "source": [
    "train['hour_24'].value_counts().head() "
   ]
  },
  {
   "cell_type": "code",
   "execution_count": 30,
   "metadata": {},
   "outputs": [
    {
     "data": {
      "text/plain": [
       "Text(0,0.5,'click_rate')"
      ]
     },
     "execution_count": 30,
     "metadata": {},
     "output_type": "execute_result"
    },
    {
     "data": {
      "image/png": "[encoded data removed]",
      "text/plain": [
       "<Figure size 432x288 with 1 Axes>"
      ]
     },
     "metadata": {},
     "output_type": "display_data"
    }
   ],
   "source": [
    "dow_click_rate = train.groupby('dow').agg({'click': 'mean'}).reset_index()\n",
    "plt.scatter(dow_click_rate['dow'], dow_click_rate['click'])\n",
    "plt.xlabel(\"day of week\")\n",
    "plt.ylabel(\"click_rate\")"
   ]
  },
  {
   "cell_type": "code",
   "execution_count": 31,
   "metadata": {},
   "outputs": [
    {
     "data": {
      "text/plain": [
       "Text(0,0.5,'click_rate')"
      ]
     },
     "execution_count": 31,
     "metadata": {},
     "output_type": "execute_result"
    },
    {
     "data": {
      "image/png": "[encoded data removed]",
      "text/plain": [
       "<Figure size 432x288 with 1 Axes>"
      ]
     },
     "metadata": {},
     "output_type": "display_data"
    }
   ],
   "source": [
    "hour_click_rate = train.groupby('hour_24').agg({'click': 'mean'}).reset_index()\n",
    "plt.scatter(hour_click_rate['hour_24'], hour_click_rate['click'])\n",
    "plt.xlabel(\"hour in a day\")\n",
    "plt.ylabel(\"click_rate\")"
   ]
  },
  {
   "cell_type": "markdown",
   "metadata": {},
   "source": [
    "- for the time feature, both day of week and hour in a day shows regular relationship with click rate (sum(click)/len)\n",
    "- dow and hour should be important features to predict click\n",
    "- hour_24 and dow could be used to do **target encode**"
   ]
  },
  {
   "cell_type": "markdown",
   "metadata": {},
   "source": [
    "## For category data"
   ]
  },
  {
   "cell_type": "code",
   "execution_count": 14,
   "metadata": {},
   "outputs": [],
   "source": [
    "cat_col = ['id', 'site_id','site_domain', 'site_category', \n",
    "           'app_id','app_domain', 'app_category', \n",
    "           'device_id', 'device_ip', 'device_model', 'device_type', 'device_conn_type']"
   ]
  },
  {
   "cell_type": "code",
   "execution_count": 33,
   "metadata": {},
   "outputs": [
    {
     "name": "stdout",
     "output_type": "stream",
     "text": [
      "32221780\n",
      "2216415\n",
      "5563626\n"
     ]
    }
   ],
   "source": [
    "print(len(train.id.unique())) \n",
    "print(len(train.device_id.unique())) \n",
    "print(len(train.device_ip.unique())) # Too much to do any meaningful encoding, just drop"
   ]
  },
  {
   "cell_type": "markdown",
   "metadata": {},
   "source": [
    "### Site information"
   ]
  },
  {
   "cell_type": "code",
   "execution_count": 36,
   "metadata": {},
   "outputs": [
    {
     "name": "stdout",
     "output_type": "stream",
     "text": [
      "4551\n",
      "7297\n",
      "26\n"
     ]
    }
   ],
   "source": [
    "print(len(train.site_id.unique())) # do hash encoder\n",
    "print(len(train.site_domain.unique())) # do hash encoder\n",
    "print(len(train.site_category.unique()))"
   ]
  },
  {
   "cell_type": "code",
   "execution_count": 37,
   "metadata": {},
   "outputs": [
    {
     "data": {
      "text/plain": [
       "Text(0,0.5,'click_rate')"
      ]
     },
     "execution_count": 37,
     "metadata": {},
     "output_type": "execute_result"
    },
    {
     "data": {
      "image/png": "[encoded data removed]",
      "text/plain": [
       "<Figure size 432x288 with 1 Axes>"
      ]
     },
     "metadata": {},
     "output_type": "display_data"
    }
   ],
   "source": [
    "# site category\n",
    "sitecat_click_rate = train.groupby('site_category').agg({'click': 'mean'}).reset_index()\n",
    "plt.scatter(range(len(train.site_category.unique())), sitecat_click_rate['click'])\n",
    "plt.xlabel(\"site category index\")\n",
    "plt.ylabel(\"click_rate\")"
   ]
  },
  {
   "cell_type": "markdown",
   "metadata": {},
   "source": [
    "- There are some different click rates in different site type, consider to do a mean target encoding"
   ]
  },
  {
   "cell_type": "code",
   "execution_count": 39,
   "metadata": {},
   "outputs": [
    {
     "data": {
      "text/html": [
       "<div>\n",
       "<style scoped>\n",
       "    .dataframe tbody tr th:only-of-type {\n",
       "        vertical-align: middle;\n",
       "    }\n",
       "\n",
       "    .dataframe tbody tr th {\n",
       "        vertical-align: top;\n",
       "    }\n",
       "\n",
       "    .dataframe thead th {\n",
       "        text-align: right;\n",
       "    }\n",
       "</style>\n",
       "<table border=\"1\" class=\"dataframe\">\n",
       "  <thead>\n",
       "    <tr style=\"text-align: right;\">\n",
       "      <th></th>\n",
       "      <th>site_category</th>\n",
       "      <th>click</th>\n",
       "    </tr>\n",
       "  </thead>\n",
       "  <tbody>\n",
       "    <tr>\n",
       "      <th>19</th>\n",
       "      <td>dedf689d</td>\n",
       "      <td>0.488327</td>\n",
       "    </tr>\n",
       "    <tr>\n",
       "      <th>4</th>\n",
       "      <td>3e814130</td>\n",
       "      <td>0.283179</td>\n",
       "    </tr>\n",
       "    <tr>\n",
       "      <th>14</th>\n",
       "      <td>42a36e14</td>\n",
       "      <td>0.230314</td>\n",
       "    </tr>\n",
       "    <tr>\n",
       "      <th>2</th>\n",
       "      <td>28905ebd</td>\n",
       "      <td>0.211476</td>\n",
       "    </tr>\n",
       "    <tr>\n",
       "      <th>12</th>\n",
       "      <td>f028772b</td>\n",
       "      <td>0.179730</td>\n",
       "    </tr>\n",
       "  </tbody>\n",
       "</table>\n",
       "</div>"
      ],
      "text/plain": [
       "   site_category     click\n",
       "19      dedf689d  0.488327\n",
       "4       3e814130  0.283179\n",
       "14      42a36e14  0.230314\n",
       "2       28905ebd  0.211476\n",
       "12      f028772b  0.179730"
      ]
     },
     "execution_count": 39,
     "metadata": {},
     "output_type": "execute_result"
    }
   ],
   "source": [
    "sitecat_click_rate.sort_values(by='click', ascending=False).head()"
   ]
  },
  {
   "cell_type": "code",
   "execution_count": 15,
   "metadata": {},
   "outputs": [],
   "source": [
    "site_cat_dict = {'dedf689d':'dedf689d', '3e814130':'3e814130',\n",
    "                '42a36e14': '42a36e14', '28905ebd':'28905ebd',\n",
    "                'f028772b':\"f028772b\"}"
   ]
  },
  {
   "cell_type": "markdown",
   "metadata": {},
   "source": [
    "### app info"
   ]
  },
  {
   "cell_type": "code",
   "execution_count": 41,
   "metadata": {},
   "outputs": [
    {
     "name": "stdout",
     "output_type": "stream",
     "text": [
      "8094\n",
      "539\n",
      "36\n"
     ]
    }
   ],
   "source": [
    "print(len(train.app_id.unique())) # do hash encoder\n",
    "print(len(train.app_domain.unique())) # do hash encoder\n",
    "print(len(train.app_category.unique()))"
   ]
  },
  {
   "cell_type": "code",
   "execution_count": 42,
   "metadata": {
    "scrolled": true
   },
   "outputs": [
    {
     "data": {
      "text/plain": [
       "Text(0,0.5,'click_rate')"
      ]
     },
     "execution_count": 42,
     "metadata": {},
     "output_type": "execute_result"
    },
    {
     "data": {
      "image/png": "[encoded data removed]",
      "text/plain": [
       "<Figure size 432x288 with 1 Axes>"
      ]
     },
     "metadata": {},
     "output_type": "display_data"
    }
   ],
   "source": [
    "appcat_click_rate = train.groupby('app_category').agg({'click': 'mean'}).reset_index()\n",
    "plt.scatter(range(len(train.app_category.unique())), appcat_click_rate['click'])\n",
    "plt.xlabel(\"app category index\")\n",
    "plt.ylabel(\"click_rate\")"
   ]
  },
  {
   "cell_type": "markdown",
   "metadata": {},
   "source": [
    "- Some app categories have very low click rate, like 0"
   ]
  },
  {
   "cell_type": "code",
   "execution_count": 43,
   "metadata": {},
   "outputs": [
    {
     "data": {
      "text/html": [
       "<div>\n",
       "<style scoped>\n",
       "    .dataframe tbody tr th:only-of-type {\n",
       "        vertical-align: middle;\n",
       "    }\n",
       "\n",
       "    .dataframe tbody tr th {\n",
       "        vertical-align: top;\n",
       "    }\n",
       "\n",
       "    .dataframe thead th {\n",
       "        text-align: right;\n",
       "    }\n",
       "</style>\n",
       "<table border=\"1\" class=\"dataframe\">\n",
       "  <thead>\n",
       "    <tr style=\"text-align: right;\">\n",
       "      <th></th>\n",
       "      <th>app_category</th>\n",
       "      <th>click</th>\n",
       "    </tr>\n",
       "  </thead>\n",
       "  <tbody>\n",
       "    <tr>\n",
       "      <th>17</th>\n",
       "      <td>8df2e842</td>\n",
       "      <td>0.231187</td>\n",
       "    </tr>\n",
       "    <tr>\n",
       "      <th>14</th>\n",
       "      <td>f95efa07</td>\n",
       "      <td>0.215271</td>\n",
       "    </tr>\n",
       "    <tr>\n",
       "      <th>0</th>\n",
       "      <td>07d7df22</td>\n",
       "      <td>0.200852</td>\n",
       "    </tr>\n",
       "    <tr>\n",
       "      <th>28</th>\n",
       "      <td>71af18ce</td>\n",
       "      <td>0.200000</td>\n",
       "    </tr>\n",
       "    <tr>\n",
       "      <th>13</th>\n",
       "      <td>dc97ec06</td>\n",
       "      <td>0.178443</td>\n",
       "    </tr>\n",
       "  </tbody>\n",
       "</table>\n",
       "</div>"
      ],
      "text/plain": [
       "   app_category     click\n",
       "17     8df2e842  0.231187\n",
       "14     f95efa07  0.215271\n",
       "0      07d7df22  0.200852\n",
       "28     71af18ce  0.200000\n",
       "13     dc97ec06  0.178443"
      ]
     },
     "execution_count": 43,
     "metadata": {},
     "output_type": "execute_result"
    }
   ],
   "source": [
    "appcat_click_rate.sort_values(by='click', ascending=False).head()"
   ]
  },
  {
   "cell_type": "code",
   "execution_count": 18,
   "metadata": {},
   "outputs": [],
   "source": [
    "app_cat_dict = {'8df2e842':'8df2e842', 'f95efa07':'f95efa07',\n",
    "               '07d7df22':'07d7df22', '71af18ce':'71af18ce',\n",
    "               'dc97ec06':'dc97ec06'}"
   ]
  },
  {
   "cell_type": "markdown",
   "metadata": {},
   "source": [
    "### Device info"
   ]
  },
  {
   "cell_type": "code",
   "execution_count": 45,
   "metadata": {},
   "outputs": [
    {
     "name": "stdout",
     "output_type": "stream",
     "text": [
      "8036\n",
      "5\n",
      "4\n"
     ]
    }
   ],
   "source": [
    "print(len(train.device_model.unique())) # do hash encoder\n",
    "print(len(train.device_type.unique()))\n",
    "print(len(train.device_conn_type.unique()))"
   ]
  },
  {
   "cell_type": "code",
   "execution_count": 46,
   "metadata": {},
   "outputs": [
    {
     "data": {
      "text/plain": [
       "Text(0,0.5,'click_rate')"
      ]
     },
     "execution_count": 46,
     "metadata": {},
     "output_type": "execute_result"
    },
    {
     "data": {
      "image/png": "[encoded data removed]",
      "text/plain": [
       "<Figure size 432x288 with 1 Axes>"
      ]
     },
     "metadata": {},
     "output_type": "display_data"
    }
   ],
   "source": [
    "dev_click_rate = train.groupby('device_type').agg({'click': 'mean'}).reset_index()\n",
    "plt.scatter(dev_click_rate.device_type, dev_click_rate['click'])\n",
    "plt.xlabel(\"device type index\")\n",
    "plt.ylabel(\"click_rate\")"
   ]
  },
  {
   "cell_type": "code",
   "execution_count": 47,
   "metadata": {},
   "outputs": [
    {
     "data": {
      "text/plain": [
       "Text(0,0.5,'click_rate')"
      ]
     },
     "execution_count": 47,
     "metadata": {},
     "output_type": "execute_result"
    },
    {
     "data": {
      "image/png": "[encoded data removed]",
      "text/plain": [
       "<Figure size 432x288 with 1 Axes>"
      ]
     },
     "metadata": {},
     "output_type": "display_data"
    }
   ],
   "source": [
    "dev_conn_click_rate = train.groupby('device_conn_type').agg({'click': 'mean'}).reset_index()\n",
    "plt.scatter(dev_conn_click_rate.device_conn_type, dev_conn_click_rate['click'])\n",
    "plt.xlabel(\"device conn type index\")\n",
    "plt.ylabel(\"click_rate\")"
   ]
  },
  {
   "cell_type": "markdown",
   "metadata": {},
   "source": [
    "- both device conn type and device type should be used to do target encoding"
   ]
  },
  {
   "cell_type": "markdown",
   "metadata": {},
   "source": [
    "## Summary of Category data\n",
    "- drop id, device_id, device_ip\n",
    "- For all categorical data, there are two ways to do encoding\n",
    "    - **hasher**: site_id, site_domain, app_id, app_domain, device_model\n",
    "    - **target encoding**: dow, hour_24, device_conn_type, device_type\n",
    "    - **OneHotEncoding**: For app_category and site_category, keep the top 5 according to click rate and convert others to others"
   ]
  },
  {
   "cell_type": "markdown",
   "metadata": {},
   "source": [
    "### OneHotEncoding"
   ]
  },
  {
   "cell_type": "code",
   "execution_count": 16,
   "metadata": {},
   "outputs": [],
   "source": [
    "def keep_top5_OHE(df, col, col_dict):\n",
    "    df[col] = df[col].map(col_dict).fillna('others')\n",
    "    df_ohe = pd.get_dummies(\n",
    "        df[col],prefix=col, prefix_sep='_').astype(np.uint8)\n",
    "    df = df.reset_index(drop=True)\n",
    "    df_ohe = df_ohe.reset_index(drop=True)\n",
    "    # if there is no that key in test set, add feature with all zero\n",
    "    for key in col_dict.keys():\n",
    "        if (col+ '_' + key) in df_ohe.columns:\n",
    "            pass\n",
    "        else:\n",
    "            df_ohe[col+ '_' + key]=0\n",
    "    df = pd.concat([df, df_ohe], axis=1)\n",
    "    df.drop(col, inplace=True, axis=1)\n",
    "    return df"
   ]
  },
  {
   "cell_type": "code",
   "execution_count": 19,
   "metadata": {},
   "outputs": [],
   "source": [
    "train = keep_top5_OHE(train, 'app_category', app_cat_dict)\n",
    "val = keep_top5_OHE(val, 'app_category', app_cat_dict)\n",
    "train = keep_top5_OHE(train, 'site_category', site_cat_dict)\n",
    "val = keep_top5_OHE(val, 'site_category', site_cat_dict)"
   ]
  },
  {
   "cell_type": "code",
   "execution_count": 46,
   "metadata": {},
   "outputs": [
    {
     "data": {
      "text/plain": [
       "Index(['index', 'id', 'click', 'C1', 'banner_pos', 'site_id', 'site_domain',\n",
       "       'app_id', 'app_domain', 'device_id', 'device_ip', 'device_model',\n",
       "       'device_type', 'device_conn_type', 'C15', 'C16', 'C17', 'C18', 'C19',\n",
       "       'C20', 'C21', 'dow', 'hour_24', 'app_category_07d7df22',\n",
       "       'app_category_8df2e842', 'app_category_dc97ec06',\n",
       "       'app_category_f95efa07', 'app_category_others', 'app_category_71af18ce',\n",
       "       'site_category_28905ebd', 'site_category_3e814130',\n",
       "       'site_category_42a36e14', 'site_category_dedf689d',\n",
       "       'site_category_f028772b', 'site_category_others'],\n",
       "      dtype='object')"
      ]
     },
     "execution_count": 46,
     "metadata": {},
     "output_type": "execute_result"
    }
   ],
   "source": [
    "val.columns"
   ]
  },
  {
   "cell_type": "code",
   "execution_count": 47,
   "metadata": {},
   "outputs": [
    {
     "data": {
      "text/plain": [
       "(35, 35)"
      ]
     },
     "execution_count": 47,
     "metadata": {},
     "output_type": "execute_result"
    }
   ],
   "source": [
    "len(train.columns),len(val.columns)"
   ]
  },
  {
   "cell_type": "markdown",
   "metadata": {},
   "source": [
    "### mean target encoding"
   ]
  },
  {
   "cell_type": "code",
   "execution_count": 20,
   "metadata": {
    "scrolled": true
   },
   "outputs": [
    {
     "name": "stdout",
     "output_type": "stream",
     "text": [
      "dowmean target encoding finished\n",
      "hour_24mean target encoding finished\n",
      "device_conn_typemean target encoding finished\n",
      "device_typemean target encoding finished\n"
     ]
    }
   ],
   "source": [
    "t_col = [\"dow\", \"hour_24\", \"device_conn_type\", \"device_type\"]\n",
    "for t_c in t_col:\n",
    "    reg_target_encoding(train, col = t_c)\n",
    "    mean_encoding_test(val, train, col=t_c)\n",
    "    print(t_c + 'mean target encoding finished')"
   ]
  },
  {
   "cell_type": "markdown",
   "metadata": {},
   "source": [
    "### hash encoding"
   ]
  },
  {
   "cell_type": "code",
   "execution_count": 21,
   "metadata": {},
   "outputs": [],
   "source": [
    "#class sklearn.feature_extraction.FeatureHasher(n_features=1048576, \n",
    "#input_type=’dict’, dtype=<class ‘numpy.float64’>, alternate_sign=True, non_negative=False)[source]¶\n",
    "from sklearn.feature_extraction import FeatureHasher\n",
    "def hash_col(df_train, df_test, col, h_num=10):\n",
    "    h = FeatureHasher(n_features=h_num,input_type = 'string')\n",
    "    D_train = df_train[col].values\n",
    "    D_test = df_test[col].values\n",
    "    f_train = h.transform(D_train)\n",
    "    f_test = h.transform(D_test)\n",
    "    \n",
    "    df_h_tr = pd.SparseDataFrame(f_train).fillna(0).astype(np.int8)\n",
    "    df_h_tr.columns = [(col + '_' + str(c)) for c in df_h_tr.columns]\n",
    "    \n",
    "    df_h_te = pd.SparseDataFrame(f_test).fillna(0).astype(np.int8)\n",
    "    df_h_te.columns = [(col + '_' + str(c)) for c in df_h_te.columns]\n",
    "    \n",
    "    df_train = df_train.drop(col, axis=1)\n",
    "    df_train = df_train.reset_index(drop=True)\n",
    "    df_h_tr = df_h_tr.reset_index(drop=True)\n",
    "    df_train = pd.concat([df_train, df_h_tr], axis=1)\n",
    "    \n",
    "    df_test = df_test.drop(col, axis=1)\n",
    "    df_test = df_test.reset_index(drop=True)\n",
    "    df_h_te = df_h_te.reset_index(drop=True)\n",
    "    df_test = pd.concat([df_test, df_h_te], axis=1)\n",
    "    return df_train, df_test"
   ]
  },
  {
   "cell_type": "code",
   "execution_count": 22,
   "metadata": {},
   "outputs": [
    {
     "name": "stdout",
     "output_type": "stream",
     "text": [
      "site_idhash encoding finished\n",
      "site_domainhash encoding finished\n",
      "app_idhash encoding finished\n",
      "app_domainhash encoding finished\n",
      "device_modelhash encoding finished\n"
     ]
    }
   ],
   "source": [
    "h_col = [\"site_id\", \"site_domain\", \"app_id\", \"app_domain\", \"device_model\"]\n",
    "for h_c in h_col:\n",
    "    train, val = hash_col(train, val, h_c)\n",
    "    print(h_c + \"hash encoding finished\")"
   ]
  },
  {
   "cell_type": "code",
   "execution_count": 58,
   "metadata": {},
   "outputs": [
    {
     "data": {
      "text/plain": [
       "Index(['index', 'id', 'click', 'C1', 'banner_pos', 'device_id', 'device_ip',\n",
       "       'device_type', 'device_conn_type', 'C15', 'C16', 'C17', 'C18', 'C19',\n",
       "       'C20', 'C21', 'dow', 'hour_24', 'app_category_07d7df22',\n",
       "       'app_category_71af18ce', 'app_category_8df2e842',\n",
       "       'app_category_dc97ec06', 'app_category_f95efa07', 'app_category_others',\n",
       "       'site_category_28905ebd', 'site_category_3e814130',\n",
       "       'site_category_42a36e14', 'site_category_dedf689d',\n",
       "       'site_category_f028772b', 'site_category_others', 'dow_mean_enc',\n",
       "       'hour_24_mean_enc', 'device_conn_type_mean_enc', 'device_type_mean_enc',\n",
       "       'site_id_0', 'site_id_1', 'site_id_2', 'site_id_3', 'site_id_4',\n",
       "       'site_id_5', 'site_id_6', 'site_id_7', 'site_id_8', 'site_id_9',\n",
       "       'site_domain_0', 'site_domain_1', 'site_domain_2', 'site_domain_3',\n",
       "       'site_domain_4', 'site_domain_5', 'site_domain_6', 'site_domain_7',\n",
       "       'site_domain_8', 'site_domain_9', 'app_id_0', 'app_id_1', 'app_id_2',\n",
       "       'app_id_3', 'app_id_4', 'app_id_5', 'app_id_6', 'app_id_7', 'app_id_8',\n",
       "       'app_id_9', 'app_domain_0', 'app_domain_1', 'app_domain_2',\n",
       "       'app_domain_3', 'app_domain_4', 'app_domain_5', 'app_domain_6',\n",
       "       'app_domain_7', 'app_domain_8', 'app_domain_9', 'device_model_0',\n",
       "       'device_model_1', 'device_model_2', 'device_model_3', 'device_model_4',\n",
       "       'device_model_5', 'device_model_6', 'device_model_7', 'device_model_8',\n",
       "       'device_model_9'],\n",
       "      dtype='object')"
      ]
     },
     "execution_count": 58,
     "metadata": {},
     "output_type": "execute_result"
    }
   ],
   "source": [
    "train.columns"
   ]
  },
  {
   "cell_type": "markdown",
   "metadata": {},
   "source": [
    "### drop meaningless columns"
   ]
  },
  {
   "cell_type": "code",
   "execution_count": 23,
   "metadata": {},
   "outputs": [],
   "source": [
    "drop_col = [\"id\", \"device_id\", \"device_ip\"]\n",
    "for d_c in drop_col:\n",
    "    train.drop(d_c, inplace=True, axis=1)\n",
    "    val.drop(d_c, inplace=True, axis=1)"
   ]
  },
  {
   "cell_type": "code",
   "execution_count": 52,
   "metadata": {},
   "outputs": [
    {
     "name": "stdout",
     "output_type": "stream",
     "text": [
      "<class 'pandas.core.frame.DataFrame'>\n",
      "RangeIndex: 32343173 entries, 0 to 32343172\n",
      "Data columns (total 81 columns):\n",
      "index                        int64\n",
      "click                        uint8\n",
      "C1                           uint16\n",
      "banner_pos                   uint16\n",
      "device_type                  uint8\n",
      "device_conn_type             uint8\n",
      "C15                          uint16\n",
      "C16                          uint16\n",
      "C17                          uint16\n",
      "C18                          uint8\n",
      "C19                          uint16\n",
      "C20                          uint16\n",
      "C21                          uint16\n",
      "dow                          int64\n",
      "hour_24                      int64\n",
      "app_category_07d7df22        uint8\n",
      "app_category_71af18ce        uint8\n",
      "app_category_8df2e842        uint8\n",
      "app_category_dc97ec06        uint8\n",
      "app_category_f95efa07        uint8\n",
      "app_category_others          uint8\n",
      "site_category_28905ebd       uint8\n",
      "site_category_3e814130       uint8\n",
      "site_category_42a36e14       uint8\n",
      "site_category_dedf689d       uint8\n",
      "site_category_f028772b       uint8\n",
      "site_category_others         uint8\n",
      "dow_mean_enc                 float64\n",
      "hour_24_mean_enc             float64\n",
      "device_conn_type_mean_enc    float64\n",
      "device_type_mean_enc         float64\n",
      "site_id_0                    int8\n",
      "site_id_1                    int8\n",
      "site_id_2                    int8\n",
      "site_id_3                    int8\n",
      "site_id_4                    int8\n",
      "site_id_5                    int8\n",
      "site_id_6                    int8\n",
      "site_id_7                    int8\n",
      "site_id_8                    int8\n",
      "site_id_9                    int8\n",
      "site_domain_0                int8\n",
      "site_domain_1                int8\n",
      "site_domain_2                int8\n",
      "site_domain_3                int8\n",
      "site_domain_4                int8\n",
      "site_domain_5                int8\n",
      "site_domain_6                int8\n",
      "site_domain_7                int8\n",
      "site_domain_8                int8\n",
      "site_domain_9                int8\n",
      "app_id_0                     int8\n",
      "app_id_1                     int8\n",
      "app_id_2                     int8\n",
      "app_id_3                     int8\n",
      "app_id_4                     int8\n",
      "app_id_5                     int8\n",
      "app_id_6                     int8\n",
      "app_id_7                     int8\n",
      "app_id_8                     int8\n",
      "app_id_9                     int8\n",
      "app_domain_0                 int8\n",
      "app_domain_1                 int8\n",
      "app_domain_2                 int8\n",
      "app_domain_3                 int8\n",
      "app_domain_4                 int8\n",
      "app_domain_5                 int8\n",
      "app_domain_6                 int8\n",
      "app_domain_7                 int8\n",
      "app_domain_8                 int8\n",
      "app_domain_9                 int8\n",
      "device_model_0               int8\n",
      "device_model_1               int8\n",
      "device_model_2               int8\n",
      "device_model_3               int8\n",
      "device_model_4               int8\n",
      "device_model_5               int8\n",
      "device_model_6               int8\n",
      "device_model_7               int8\n",
      "device_model_8               int8\n",
      "device_model_9               int8\n",
      "dtypes: float64(4), int64(3), int8(50), uint16(8), uint8(16)\n",
      "memory usage: 3.4 GB\n"
     ]
    }
   ],
   "source": [
    "train.info(memory_usage='deep')"
   ]
  },
  {
   "cell_type": "markdown",
   "metadata": {},
   "source": [
    "## Fit Model"
   ]
  },
  {
   "cell_type": "markdown",
   "metadata": {},
   "source": [
    "### Simple Model"
   ]
  },
  {
   "cell_type": "code",
   "execution_count": 24,
   "metadata": {},
   "outputs": [],
   "source": [
    "from sklearn.ensemble import RandomForestClassifier\n",
    "from sklearn.metrics import log_loss\n",
    "X_train = train.drop('click', axis=1)\n",
    "y_train = train.click\n",
    "X_test = val.drop('click', axis=1)\n",
    "y_test = val.click"
   ]
  },
  {
   "cell_type": "code",
   "execution_count": 54,
   "metadata": {},
   "outputs": [
    {
     "data": {
      "text/plain": [
       "((32343173, 80), (8085794, 80))"
      ]
     },
     "execution_count": 54,
     "metadata": {},
     "output_type": "execute_result"
    }
   ],
   "source": [
    "X_train.shape,X_test.shape"
   ]
  },
  {
   "cell_type": "code",
   "execution_count": 63,
   "metadata": {},
   "outputs": [
    {
     "name": "stdout",
     "output_type": "stream",
     "text": [
      "building tree 1 of 10building tree 2 of 10\n",
      "building tree 3 of 10\n",
      "building tree 4 of 10\n",
      "building tree 5 of 10\n",
      "building tree 6 of 10\n",
      "building tree 7 of 10building tree 8 of 10\n",
      "building tree 9 of 10building tree 10 of 10\n",
      "\n",
      "\n",
      "\n"
     ]
    },
    {
     "name": "stderr",
     "output_type": "stream",
     "text": [
      "[Parallel(n_jobs=-1)]: Done   5 out of  10 | elapsed: 28.5min remaining: 28.5min\n",
      "[Parallel(n_jobs=-1)]: Done  10 out of  10 | elapsed: 29.5min finished\n"
     ]
    },
    {
     "data": {
      "text/plain": [
       "RandomForestClassifier(bootstrap=True, class_weight=None, criterion='gini',\n",
       "            max_depth=None, max_features=3, max_leaf_nodes=None,\n",
       "            min_impurity_decrease=0.0, min_impurity_split=None,\n",
       "            min_samples_leaf=100, min_samples_split=2,\n",
       "            min_weight_fraction_leaf=0.0, n_estimators=10, n_jobs=-1,\n",
       "            oob_score=False, random_state=None, verbose=2,\n",
       "            warm_start=False)"
      ]
     },
     "execution_count": 63,
     "metadata": {},
     "output_type": "execute_result"
    }
   ],
   "source": [
    "clf = RandomForestClassifier(n_jobs = -1, n_estimators=10, min_samples_leaf=100, max_features=3, verbose=2)\n",
    "clf.fit(X_train, y_train)"
   ]
  },
  {
   "cell_type": "code",
   "execution_count": 25,
   "metadata": {},
   "outputs": [],
   "source": [
    "def compute_loss(clf, X_train, y_train, X_test, y_test):\n",
    "    y_pred_te = clf.predict_proba(X_test)\n",
    "    y_pred_tr = clf.predict_proba(X_train)\n",
    "    loss_train = log_loss(y_train, y_pred_tr)\n",
    "    loss_test = log_loss(y_test, y_pred_te)\n",
    "    print(\"log loss on training set is {:0.4f}\".format(loss_train))\n",
    "    print(\"log loss on test set is {:0.4f}\".format(loss_test))"
   ]
  },
  {
   "cell_type": "code",
   "execution_count": 71,
   "metadata": {},
   "outputs": [
    {
     "name": "stderr",
     "output_type": "stream",
     "text": [
      "[Parallel(n_jobs=10)]: Done   3 out of  10 | elapsed:    1.3s remaining:    3.0s\n",
      "[Parallel(n_jobs=10)]: Done  10 out of  10 | elapsed:    1.8s finished\n",
      "[Parallel(n_jobs=10)]: Done   3 out of  10 | elapsed:   25.5s remaining:   59.6s\n",
      "[Parallel(n_jobs=10)]: Done  10 out of  10 | elapsed:   26.4s finished\n"
     ]
    },
    {
     "name": "stdout",
     "output_type": "stream",
     "text": [
      "log loss on training set is 0.3997\n",
      "log loss on test set is 0.4402\n"
     ]
    }
   ],
   "source": [
    "compute_loss(clf, X_train, y_train, X_test, y_test)"
   ]
  },
  {
   "cell_type": "markdown",
   "metadata": {},
   "source": [
    "### Model Tuning"
   ]
  },
  {
   "cell_type": "code",
   "execution_count": null,
   "metadata": {
    "scrolled": true
   },
   "outputs": [],
   "source": [
    "# previous one is overfitting --> increase number of trees and min_samples_leaf\n",
    "\n",
    "# from sklearn.model_selection import ParameterGrid\n",
    "# param_grid = {'n_estimators': [20,30], 'min_samples_leaf': [100, 200]}\n",
    "# grid = list(ParameterGrid(param_grid))"
   ]
  },
  {
   "cell_type": "code",
   "execution_count": 27,
   "metadata": {},
   "outputs": [
    {
     "name": "stdout",
     "output_type": "stream",
     "text": [
      "building tree 1 of 20\n",
      "building tree 2 of 20\n",
      "building tree 3 of 20\n",
      "building tree 4 of 20\n",
      "building tree 5 of 20\n",
      "building tree 6 of 20building tree 7 of 20building tree 8 of 20building tree 9 of 20building tree 10 of 20\n",
      "\n",
      "\n",
      "\n",
      "building tree 11 of 20building tree 12 of 20\n",
      "\n",
      "\n",
      "building tree 13 of 20\n",
      "building tree 14 of 20\n",
      "building tree 15 of 20\n",
      "building tree 16 of 20\n",
      "building tree 17 of 20\n",
      "building tree 18 of 20\n",
      "building tree 19 of 20\n",
      "building tree 20 of 20\n"
     ]
    },
    {
     "name": "stderr",
     "output_type": "stream",
     "text": [
      "[Parallel(n_jobs=-1)]: Done   8 out of  20 | elapsed: 77.3min remaining: 116.0min\n",
      "[Parallel(n_jobs=-1)]: Done  20 out of  20 | elapsed: 102.3min finished\n",
      "[Parallel(n_jobs=12)]: Done   8 out of  20 | elapsed:    3.3s remaining:    5.0s\n",
      "[Parallel(n_jobs=12)]: Done  20 out of  20 | elapsed:    6.0s finished\n",
      "[Parallel(n_jobs=12)]: Done   8 out of  20 | elapsed:   30.4s remaining:   45.6s\n",
      "[Parallel(n_jobs=12)]: Done  20 out of  20 | elapsed:  1.0min finished\n"
     ]
    },
    {
     "name": "stdout",
     "output_type": "stream",
     "text": [
      "log loss on training set is 0.3939\n",
      "log loss on test set is 0.4009\n"
     ]
    }
   ],
   "source": [
    "# for params in grid:\n",
    "#     print(params)\n",
    "# n_estimators=20, min_samples_leaf=200\n",
    "clf = RandomForestClassifier(n_jobs = -1, verbose=2, \n",
    "                             criterion = 'entropy',\n",
    "                             n_estimators=20, min_samples_leaf=200)\n",
    "clf.fit(X_train, y_train)\n",
    "compute_loss(clf, X_train, y_train, \n",
    "             X_test, y_test)"
   ]
  },
  {
   "cell_type": "code",
   "execution_count": 33,
   "metadata": {},
   "outputs": [
    {
     "data": {
      "text/plain": [
       "<matplotlib.axes._subplots.AxesSubplot at 0x1a1b818a58>"
      ]
     },
     "execution_count": 33,
     "metadata": {},
     "output_type": "execute_result"
    },
    {
     "data": {
      "image/png": "[encoded data removed]",
      "text/plain": [
       "<Figure size 432x288 with 1 Axes>"
      ]
     },
     "metadata": {},
     "output_type": "display_data"
    }
   ],
   "source": [
    "pd.Series(clf.feature_importances_, index=X_train.columns).sort_values(ascending=False).head(10).plot(kind='barh')"
   ]
  },
  {
   "cell_type": "markdown",
   "metadata": {},
   "source": [
    "### Results\n",
    "- The model with n_estimators=20 and min_samples_leaf=200 did a great job in modeling, the hash encoding and numerical features are very important\n",
    "- The log loss on test set is 0.4"
   ]
  },
  {
   "cell_type": "markdown",
   "metadata": {},
   "source": [
    "# Final Modeling Fit"
   ]
  },
  {
   "cell_type": "code",
   "execution_count": 12,
   "metadata": {},
   "outputs": [],
   "source": [
    "def process_time(df, col):\n",
    "    df[col] = pd.to_datetime(df[col],format='%y%m%d%H')\n",
    "    df['dow'] = df[col].dt.weekday\n",
    "    df['hour_24'] = df[col].dt.hour\n",
    "    df.drop(col, axis=1, inplace=True)\n",
    "    return df"
   ]
  },
  {
   "cell_type": "code",
   "execution_count": 13,
   "metadata": {},
   "outputs": [],
   "source": [
    "data = process_time(data, 'hour')"
   ]
  },
  {
   "cell_type": "code",
   "execution_count": 18,
   "metadata": {},
   "outputs": [],
   "source": [
    "test = process_time(test, 'hour')"
   ]
  },
  {
   "cell_type": "code",
   "execution_count": 14,
   "metadata": {},
   "outputs": [
    {
     "data": {
      "text/html": [
       "<div>\n",
       "<style scoped>\n",
       "    .dataframe tbody tr th:only-of-type {\n",
       "        vertical-align: middle;\n",
       "    }\n",
       "\n",
       "    .dataframe tbody tr th {\n",
       "        vertical-align: top;\n",
       "    }\n",
       "\n",
       "    .dataframe thead th {\n",
       "        text-align: right;\n",
       "    }\n",
       "</style>\n",
       "<table border=\"1\" class=\"dataframe\">\n",
       "  <thead>\n",
       "    <tr style=\"text-align: right;\">\n",
       "      <th></th>\n",
       "      <th>site_category</th>\n",
       "      <th>click</th>\n",
       "    </tr>\n",
       "  </thead>\n",
       "  <tbody>\n",
       "    <tr>\n",
       "      <th>19</th>\n",
       "      <td>dedf689d</td>\n",
       "      <td>0.514000</td>\n",
       "    </tr>\n",
       "    <tr>\n",
       "      <th>4</th>\n",
       "      <td>3e814130</td>\n",
       "      <td>0.283003</td>\n",
       "    </tr>\n",
       "    <tr>\n",
       "      <th>14</th>\n",
       "      <td>42a36e14</td>\n",
       "      <td>0.231014</td>\n",
       "    </tr>\n",
       "    <tr>\n",
       "      <th>2</th>\n",
       "      <td>28905ebd</td>\n",
       "      <td>0.208019</td>\n",
       "    </tr>\n",
       "    <tr>\n",
       "      <th>12</th>\n",
       "      <td>f028772b</td>\n",
       "      <td>0.179579</td>\n",
       "    </tr>\n",
       "  </tbody>\n",
       "</table>\n",
       "</div>"
      ],
      "text/plain": [
       "   site_category     click\n",
       "19      dedf689d  0.514000\n",
       "4       3e814130  0.283003\n",
       "14      42a36e14  0.231014\n",
       "2       28905ebd  0.208019\n",
       "12      f028772b  0.179579"
      ]
     },
     "execution_count": 14,
     "metadata": {},
     "output_type": "execute_result"
    }
   ],
   "source": [
    "sitecat_click_rate = data.groupby('site_category').agg({'click': 'mean'}).reset_index()\n",
    "sitecat_click_rate.sort_values(by='click', ascending=False).head()"
   ]
  },
  {
   "cell_type": "code",
   "execution_count": 15,
   "metadata": {},
   "outputs": [],
   "source": [
    "site_cat_dict = {'dedf689d':1, '3e814130':2,\n",
    "                '42a36e14': 3, '28905ebd':4,\n",
    "                'f028772b':5}"
   ]
  },
  {
   "cell_type": "code",
   "execution_count": 16,
   "metadata": {},
   "outputs": [
    {
     "data": {
      "text/html": [
       "<div>\n",
       "<style scoped>\n",
       "    .dataframe tbody tr th:only-of-type {\n",
       "        vertical-align: middle;\n",
       "    }\n",
       "\n",
       "    .dataframe tbody tr th {\n",
       "        vertical-align: top;\n",
       "    }\n",
       "\n",
       "    .dataframe thead th {\n",
       "        text-align: right;\n",
       "    }\n",
       "</style>\n",
       "<table border=\"1\" class=\"dataframe\">\n",
       "  <thead>\n",
       "    <tr style=\"text-align: right;\">\n",
       "      <th></th>\n",
       "      <th>app_category</th>\n",
       "      <th>click</th>\n",
       "    </tr>\n",
       "  </thead>\n",
       "  <tbody>\n",
       "    <tr>\n",
       "      <th>17</th>\n",
       "      <td>8df2e842</td>\n",
       "      <td>0.259678</td>\n",
       "    </tr>\n",
       "    <tr>\n",
       "      <th>14</th>\n",
       "      <td>f95efa07</td>\n",
       "      <td>0.247588</td>\n",
       "    </tr>\n",
       "    <tr>\n",
       "      <th>28</th>\n",
       "      <td>71af18ce</td>\n",
       "      <td>0.200000</td>\n",
       "    </tr>\n",
       "    <tr>\n",
       "      <th>0</th>\n",
       "      <td>07d7df22</td>\n",
       "      <td>0.199148</td>\n",
       "    </tr>\n",
       "    <tr>\n",
       "      <th>35</th>\n",
       "      <td>0d82db25</td>\n",
       "      <td>0.160000</td>\n",
       "    </tr>\n",
       "  </tbody>\n",
       "</table>\n",
       "</div>"
      ],
      "text/plain": [
       "   app_category     click\n",
       "17     8df2e842  0.259678\n",
       "14     f95efa07  0.247588\n",
       "28     71af18ce  0.200000\n",
       "0      07d7df22  0.199148\n",
       "35     0d82db25  0.160000"
      ]
     },
     "execution_count": 16,
     "metadata": {},
     "output_type": "execute_result"
    }
   ],
   "source": [
    "appcat_click_rate = data.groupby('app_category').agg({'click': 'mean'}).reset_index()\n",
    "appcat_click_rate.sort_values(by='click', ascending=False).head()"
   ]
  },
  {
   "cell_type": "code",
   "execution_count": 17,
   "metadata": {},
   "outputs": [],
   "source": [
    "app_cat_dict = {'8df2e842':1, 'f95efa07':2,\n",
    "                '71af18ce': 3, '07d7df22':4,\n",
    "                '0d82db25':5}"
   ]
  },
  {
   "cell_type": "code",
   "execution_count": 5,
   "metadata": {
    "editable": false,
    "nbgrader": {
     "checksum": "4b2ee7b245a73446da29cd2cb69fd8e2",
     "grade": false,
     "grade_id": "cell-e5b525e48f90cc37",
     "locked": true,
     "schema_version": 1,
     "solution": false
    }
   },
   "outputs": [],
   "source": [
    "def load_data():\n",
    "    path = \"avazu/\"\n",
    "    data = pd.read_csv(path + \"train\")\n",
    "    test = pd.read_csv(path + \"test\")\n",
    "    return data, test"
   ]
  },
  {
   "cell_type": "markdown",
   "metadata": {},
   "source": [
    "### label encoding\n",
    "- Find that doing oneHotEncoding is too slow"
   ]
  },
  {
   "cell_type": "code",
   "execution_count": 19,
   "metadata": {},
   "outputs": [],
   "source": [
    "def keep_top5_label(df, col, col_dict):\n",
    "    df[col] = df[col].map(col_dict).fillna(0).astype(np.uint8)\n",
    "    return df"
   ]
  },
  {
   "cell_type": "code",
   "execution_count": 20,
   "metadata": {},
   "outputs": [],
   "source": [
    "data = keep_top5_label(data, 'app_category', app_cat_dict)\n",
    "test = keep_top5_label(test, 'app_category', app_cat_dict)\n",
    "\n",
    "data = keep_top5_label(data, 'site_category', site_cat_dict)\n",
    "test = keep_top5_label(test, 'site_category', site_cat_dict)"
   ]
  },
  {
   "cell_type": "markdown",
   "metadata": {},
   "source": [
    "### regularized target encoding"
   ]
  },
  {
   "cell_type": "code",
   "execution_count": 22,
   "metadata": {},
   "outputs": [
    {
     "name": "stdout",
     "output_type": "stream",
     "text": [
      "dowmean target encoding finished\n",
      "hour_24mean target encoding finished\n",
      "device_conn_typemean target encoding finished\n",
      "device_typemean target encoding finished\n"
     ]
    }
   ],
   "source": [
    "t_col = [\"dow\", \"hour_24\", \"device_conn_type\", \"device_type\"]\n",
    "for t_c in t_col:\n",
    "    reg_target_encoding(data, col = t_c)\n",
    "    mean_encoding_test(test, data, col=t_c)\n",
    "    print(t_c + 'mean target encoding finished')"
   ]
  },
  {
   "cell_type": "markdown",
   "metadata": {},
   "source": [
    "### hash encoding"
   ]
  },
  {
   "cell_type": "code",
   "execution_count": 23,
   "metadata": {},
   "outputs": [
    {
     "name": "stdout",
     "output_type": "stream",
     "text": [
      "site_idhash encoding finished\n",
      "site_domainhash encoding finished\n",
      "app_idhash encoding finished\n",
      "app_domainhash encoding finished\n",
      "device_modelhash encoding finished\n"
     ]
    }
   ],
   "source": [
    "h_col = [\"site_id\", \"site_domain\", \"app_id\", \"app_domain\", \"device_model\"]\n",
    "for h_c in h_col:\n",
    "    data, test = hash_col(data, test, h_c)\n",
    "    print(h_c + \"hash encoding finished\")"
   ]
  },
  {
   "cell_type": "markdown",
   "metadata": {},
   "source": [
    "### Drop col"
   ]
  },
  {
   "cell_type": "code",
   "execution_count": 28,
   "metadata": {},
   "outputs": [],
   "source": [
    "drop_col = [\"id\", \"device_id\", \"device_ip\"]\n",
    "for d_c in drop_col:\n",
    "    data.drop(d_c, inplace=True, axis=1)\n",
    "    test.drop(d_c, inplace=True, axis=1)"
   ]
  },
  {
   "cell_type": "code",
   "execution_count": 29,
   "metadata": {},
   "outputs": [
    {
     "name": "stdout",
     "output_type": "stream",
     "text": [
      "<class 'pandas.core.frame.DataFrame'>\n",
      "RangeIndex: 40428967 entries, 0 to 40428966\n",
      "Data columns (total 70 columns):\n",
      "click                        uint8\n",
      "C1                           uint16\n",
      "banner_pos                   uint16\n",
      "site_category                uint8\n",
      "app_category                 uint8\n",
      "device_type                  uint8\n",
      "device_conn_type             uint8\n",
      "C15                          uint16\n",
      "C16                          uint16\n",
      "C17                          uint16\n",
      "C18                          uint8\n",
      "C19                          uint16\n",
      "C20                          uint16\n",
      "C21                          uint16\n",
      "dow                          int64\n",
      "hour_24                      int64\n",
      "dow_mean_enc                 float64\n",
      "hour_24_mean_enc             float64\n",
      "device_conn_type_mean_enc    float64\n",
      "device_type_mean_enc         float64\n",
      "site_id_0                    int8\n",
      "site_id_1                    int8\n",
      "site_id_2                    int8\n",
      "site_id_3                    int8\n",
      "site_id_4                    int8\n",
      "site_id_5                    int8\n",
      "site_id_6                    int8\n",
      "site_id_7                    int8\n",
      "site_id_8                    int8\n",
      "site_id_9                    int8\n",
      "site_domain_0                int8\n",
      "site_domain_1                int8\n",
      "site_domain_2                int8\n",
      "site_domain_3                int8\n",
      "site_domain_4                int8\n",
      "site_domain_5                int8\n",
      "site_domain_6                int8\n",
      "site_domain_7                int8\n",
      "site_domain_8                int8\n",
      "site_domain_9                int8\n",
      "app_id_0                     int8\n",
      "app_id_1                     int8\n",
      "app_id_2                     int8\n",
      "app_id_3                     int8\n",
      "app_id_4                     int8\n",
      "app_id_5                     int8\n",
      "app_id_6                     int8\n",
      "app_id_7                     int8\n",
      "app_id_8                     int8\n",
      "app_id_9                     int8\n",
      "app_domain_0                 int8\n",
      "app_domain_1                 int8\n",
      "app_domain_2                 int8\n",
      "app_domain_3                 int8\n",
      "app_domain_4                 int8\n",
      "app_domain_5                 int8\n",
      "app_domain_6                 int8\n",
      "app_domain_7                 int8\n",
      "app_domain_8                 int8\n",
      "app_domain_9                 int8\n",
      "device_model_0               int8\n",
      "device_model_1               int8\n",
      "device_model_2               int8\n",
      "device_model_3               int8\n",
      "device_model_4               int8\n",
      "device_model_5               int8\n",
      "device_model_6               int8\n",
      "device_model_7               int8\n",
      "device_model_8               int8\n",
      "device_model_9               int8\n",
      "dtypes: float64(4), int64(2), int8(50), uint16(8), uint8(6)\n",
      "memory usage: 3.5 GB\n"
     ]
    }
   ],
   "source": [
    "data.info(memory_usage='deep')"
   ]
  },
  {
   "cell_type": "markdown",
   "metadata": {},
   "source": [
    "### Fit Model"
   ]
  },
  {
   "cell_type": "code",
   "execution_count": 30,
   "metadata": {},
   "outputs": [],
   "source": [
    "from sklearn.ensemble import RandomForestClassifier\n",
    "from sklearn.metrics import log_loss\n",
    "X_train = data.drop('click', axis=1)\n",
    "y_train = data.click\n",
    "X_test = test"
   ]
  },
  {
   "cell_type": "code",
   "execution_count": 31,
   "metadata": {},
   "outputs": [
    {
     "name": "stdout",
     "output_type": "stream",
     "text": [
      "building tree 1 of 60building tree 2 of 60building tree 3 of 60\n",
      "\n",
      "building tree 4 of 60\n",
      "building tree 5 of 60\n",
      "\n",
      "building tree 6 of 60building tree 7 of 60\n",
      "\n",
      "building tree 8 of 60building tree 9 of 60\n",
      "building tree 10 of 60\n",
      "building tree 11 of 60building tree 12 of 60\n",
      "\n",
      "\n",
      "building tree 13 of 60\n",
      "building tree 14 of 60\n",
      "building tree 15 of 60\n",
      "building tree 16 of 60\n",
      "building tree 17 of 60\n",
      "building tree 18 of 60\n",
      "building tree 19 of 60\n",
      "building tree 20 of 60\n",
      "building tree 21 of 60\n",
      "building tree 22 of 60\n",
      "building tree 23 of 60\n",
      "building tree 24 of 60\n",
      "building tree 25 of 60\n",
      "building tree 26 of 60\n",
      "building tree 27 of 60\n",
      "building tree 28 of 60\n",
      "building tree 29 of 60\n"
     ]
    },
    {
     "name": "stderr",
     "output_type": "stream",
     "text": [
      "[Parallel(n_jobs=-1)]: Done  17 tasks      | elapsed: 415.4min\n"
     ]
    },
    {
     "name": "stdout",
     "output_type": "stream",
     "text": [
      "building tree 30 of 60\n",
      "building tree 31 of 60\n",
      "building tree 32 of 60\n",
      "building tree 33 of 60\n",
      "building tree 34 of 60\n",
      "building tree 35 of 60\n",
      "building tree 36 of 60\n",
      "building tree 37 of 60\n",
      "building tree 38 of 60\n",
      "building tree 39 of 60\n",
      "building tree 40 of 60\n",
      "building tree 41 of 60\n",
      "building tree 42 of 60\n",
      "building tree 43 of 60\n",
      "building tree 44 of 60\n",
      "building tree 45 of 60\n",
      "building tree 46 of 60\n",
      "building tree 47 of 60\n",
      "building tree 48 of 60\n",
      "building tree 49 of 60\n",
      "building tree 50 of 60\n",
      "building tree 51 of 60\n",
      "building tree 52 of 60\n",
      "building tree 53 of 60\n",
      "building tree 54 of 60\n",
      "building tree 55 of 60\n",
      "building tree 56 of 60\n",
      "building tree 57 of 60\n",
      "building tree 58 of 60\n",
      "building tree 59 of 60\n",
      "building tree 60 of 60\n"
     ]
    },
    {
     "name": "stderr",
     "output_type": "stream",
     "text": [
      "[Parallel(n_jobs=-1)]: Done  60 out of  60 | elapsed: 1054.9min finished\n"
     ]
    },
    {
     "data": {
      "text/plain": [
       "RandomForestClassifier(bootstrap=True, class_weight=None, criterion='entropy',\n",
       "            max_depth=None, max_features='auto', max_leaf_nodes=None,\n",
       "            min_impurity_decrease=0.0, min_impurity_split=None,\n",
       "            min_samples_leaf=200, min_samples_split=2,\n",
       "            min_weight_fraction_leaf=0.0, n_estimators=60, n_jobs=-1,\n",
       "            oob_score=False, random_state=None, verbose=2,\n",
       "            warm_start=False)"
      ]
     },
     "execution_count": 31,
     "metadata": {},
     "output_type": "execute_result"
    }
   ],
   "source": [
    "# Still suffering from over fitting, so increase the number of trees to be more robust\n",
    "clf = RandomForestClassifier(n_jobs = -1, verbose=2, \n",
    "                             criterion = 'entropy',\n",
    "                             n_estimators=60, min_samples_leaf=200)\n",
    "clf.fit(X_train, y_train)"
   ]
  },
  {
   "cell_type": "code",
   "execution_count": 32,
   "metadata": {},
   "outputs": [
    {
     "name": "stderr",
     "output_type": "stream",
     "text": [
      "[Parallel(n_jobs=12)]: Done  17 tasks      | elapsed:  2.1min\n",
      "[Parallel(n_jobs=12)]: Done  60 out of  60 | elapsed:  5.6min finished\n"
     ]
    },
    {
     "data": {
      "text/plain": [
       "0.3907236127785387"
      ]
     },
     "execution_count": 32,
     "metadata": {},
     "output_type": "execute_result"
    }
   ],
   "source": [
    "y_pred_tr = clf.predict_proba(X_train)\n",
    "loss_train = log_loss(y_train, y_pred_tr)\n",
    "loss_train"
   ]
  },
  {
   "cell_type": "code",
   "execution_count": 33,
   "metadata": {},
   "outputs": [
    {
     "name": "stderr",
     "output_type": "stream",
     "text": [
      "[Parallel(n_jobs=12)]: Done  17 tasks      | elapsed:    4.8s\n",
      "[Parallel(n_jobs=12)]: Done  60 out of  60 | elapsed:   12.6s finished\n"
     ]
    }
   ],
   "source": [
    "y_pred_te = clf.predict_proba(X_test)"
   ]
  },
  {
   "cell_type": "code",
   "execution_count": 34,
   "metadata": {},
   "outputs": [
    {
     "data": {
      "text/plain": [
       "4577464"
      ]
     },
     "execution_count": 34,
     "metadata": {},
     "output_type": "execute_result"
    }
   ],
   "source": [
    "len(y_pred_te)"
   ]
  },
  {
   "cell_type": "code",
   "execution_count": 50,
   "metadata": {},
   "outputs": [],
   "source": [
    "click = pd.DataFrame(y_pred_te[:,1], columns=['click'])"
   ]
  },
  {
   "cell_type": "code",
   "execution_count": 59,
   "metadata": {},
   "outputs": [
    {
     "data": {
      "text/html": [
       "<div>\n",
       "<style scoped>\n",
       "    .dataframe tbody tr th:only-of-type {\n",
       "        vertical-align: middle;\n",
       "    }\n",
       "\n",
       "    .dataframe tbody tr th {\n",
       "        vertical-align: top;\n",
       "    }\n",
       "\n",
       "    .dataframe thead th {\n",
       "        text-align: right;\n",
       "    }\n",
       "</style>\n",
       "<table border=\"1\" class=\"dataframe\">\n",
       "  <thead>\n",
       "    <tr style=\"text-align: right;\">\n",
       "      <th></th>\n",
       "      <th>click</th>\n",
       "    </tr>\n",
       "  </thead>\n",
       "  <tbody>\n",
       "    <tr>\n",
       "      <th>0</th>\n",
       "      <td>0.089197</td>\n",
       "    </tr>\n",
       "    <tr>\n",
       "      <th>1</th>\n",
       "      <td>0.215322</td>\n",
       "    </tr>\n",
       "    <tr>\n",
       "      <th>2</th>\n",
       "      <td>0.255716</td>\n",
       "    </tr>\n",
       "    <tr>\n",
       "      <th>3</th>\n",
       "      <td>0.020674</td>\n",
       "    </tr>\n",
       "    <tr>\n",
       "      <th>4</th>\n",
       "      <td>0.305573</td>\n",
       "    </tr>\n",
       "  </tbody>\n",
       "</table>\n",
       "</div>"
      ],
      "text/plain": [
       "      click\n",
       "0  0.089197\n",
       "1  0.215322\n",
       "2  0.255716\n",
       "3  0.020674\n",
       "4  0.305573"
      ]
     },
     "execution_count": 59,
     "metadata": {},
     "output_type": "execute_result"
    }
   ],
   "source": [
    "click.head()"
   ]
  },
  {
   "cell_type": "code",
   "execution_count": 44,
   "metadata": {},
   "outputs": [],
   "source": [
    "path = \"avazu/\"\n",
    "predict = pd.read_csv(path + \"sampleSubmission\")"
   ]
  },
  {
   "cell_type": "code",
   "execution_count": 45,
   "metadata": {},
   "outputs": [
    {
     "data": {
      "text/html": [
       "<div>\n",
       "<style scoped>\n",
       "    .dataframe tbody tr th:only-of-type {\n",
       "        vertical-align: middle;\n",
       "    }\n",
       "\n",
       "    .dataframe tbody tr th {\n",
       "        vertical-align: top;\n",
       "    }\n",
       "\n",
       "    .dataframe thead th {\n",
       "        text-align: right;\n",
       "    }\n",
       "</style>\n",
       "<table border=\"1\" class=\"dataframe\">\n",
       "  <thead>\n",
       "    <tr style=\"text-align: right;\">\n",
       "      <th></th>\n",
       "      <th>id</th>\n",
       "      <th>click</th>\n",
       "    </tr>\n",
       "  </thead>\n",
       "  <tbody>\n",
       "    <tr>\n",
       "      <th>0</th>\n",
       "      <td>10000174058809263569</td>\n",
       "      <td>0.5</td>\n",
       "    </tr>\n",
       "    <tr>\n",
       "      <th>1</th>\n",
       "      <td>10000182526920855428</td>\n",
       "      <td>0.5</td>\n",
       "    </tr>\n",
       "    <tr>\n",
       "      <th>2</th>\n",
       "      <td>10000554139829213984</td>\n",
       "      <td>0.5</td>\n",
       "    </tr>\n",
       "    <tr>\n",
       "      <th>3</th>\n",
       "      <td>10001094637809798845</td>\n",
       "      <td>0.5</td>\n",
       "    </tr>\n",
       "    <tr>\n",
       "      <th>4</th>\n",
       "      <td>10001377041558670745</td>\n",
       "      <td>0.5</td>\n",
       "    </tr>\n",
       "  </tbody>\n",
       "</table>\n",
       "</div>"
      ],
      "text/plain": [
       "                     id  click\n",
       "0  10000174058809263569    0.5\n",
       "1  10000182526920855428    0.5\n",
       "2  10000554139829213984    0.5\n",
       "3  10001094637809798845    0.5\n",
       "4  10001377041558670745    0.5"
      ]
     },
     "execution_count": 45,
     "metadata": {},
     "output_type": "execute_result"
    }
   ],
   "source": [
    "predict = predict"
   ]
  },
  {
   "cell_type": "code",
   "execution_count": 52,
   "metadata": {},
   "outputs": [],
   "source": [
    "submission = pd.concat([predict.id,click],axis=1)"
   ]
  },
  {
   "cell_type": "code",
   "execution_count": 53,
   "metadata": {},
   "outputs": [
    {
     "data": {
      "text/html": [
       "<div>\n",
       "<style scoped>\n",
       "    .dataframe tbody tr th:only-of-type {\n",
       "        vertical-align: middle;\n",
       "    }\n",
       "\n",
       "    .dataframe tbody tr th {\n",
       "        vertical-align: top;\n",
       "    }\n",
       "\n",
       "    .dataframe thead th {\n",
       "        text-align: right;\n",
       "    }\n",
       "</style>\n",
       "<table border=\"1\" class=\"dataframe\">\n",
       "  <thead>\n",
       "    <tr style=\"text-align: right;\">\n",
       "      <th></th>\n",
       "      <th>id</th>\n",
       "      <th>click</th>\n",
       "    </tr>\n",
       "  </thead>\n",
       "  <tbody>\n",
       "    <tr>\n",
       "      <th>0</th>\n",
       "      <td>10000174058809263569</td>\n",
       "      <td>0.089197</td>\n",
       "    </tr>\n",
       "    <tr>\n",
       "      <th>1</th>\n",
       "      <td>10000182526920855428</td>\n",
       "      <td>0.215322</td>\n",
       "    </tr>\n",
       "    <tr>\n",
       "      <th>2</th>\n",
       "      <td>10000554139829213984</td>\n",
       "      <td>0.255716</td>\n",
       "    </tr>\n",
       "    <tr>\n",
       "      <th>3</th>\n",
       "      <td>10001094637809798845</td>\n",
       "      <td>0.020674</td>\n",
       "    </tr>\n",
       "    <tr>\n",
       "      <th>4</th>\n",
       "      <td>10001377041558670745</td>\n",
       "      <td>0.305573</td>\n",
       "    </tr>\n",
       "  </tbody>\n",
       "</table>\n",
       "</div>"
      ],
      "text/plain": [
       "                     id     click\n",
       "0  10000174058809263569  0.089197\n",
       "1  10000182526920855428  0.215322\n",
       "2  10000554139829213984  0.255716\n",
       "3  10001094637809798845  0.020674\n",
       "4  10001377041558670745  0.305573"
      ]
     },
     "execution_count": 53,
     "metadata": {},
     "output_type": "execute_result"
    }
   ],
   "source": [
    "submission.head()"
   ]
  },
  {
   "cell_type": "code",
   "execution_count": 54,
   "metadata": {},
   "outputs": [],
   "source": [
    "submission.to_csv(path + \"submission.csv\", index=False)"
   ]
  },
  {
   "cell_type": "code",
   "execution_count": 58,
   "metadata": {},
   "outputs": [
    {
     "data": {
      "text/plain": [
       "<matplotlib.axes._subplots.AxesSubplot at 0x1a27278b38>"
      ]
     },
     "execution_count": 58,
     "metadata": {},
     "output_type": "execute_result"
    },
    {
     "data": {
      "image/png": "[encoded data removed]",
      "text/plain": [
       "<Figure size 432x288 with 1 Axes>"
      ]
     },
     "metadata": {},
     "output_type": "display_data"
    }
   ],
   "source": [
    "pd.Series(clf.feature_importances_, index=X_train.columns).sort_values(ascending=False).head(20).plot(kind='barh')"
   ]
  },
  {
   "cell_type": "code",
   "execution_count": null,
   "metadata": {},
   "outputs": [],
   "source": []
  }
 ],
 "metadata": {
  "kernelspec": {
   "display_name": "Python 3",
   "language": "python",
   "name": "python3"
  },
  "language_info": {
   "codemirror_mode": {
    "name": "ipython",
    "version": 3
   },
   "file_extension": ".py",
   "mimetype": "text/x-python",
   "name": "python",
   "nbconvert_exporter": "python",
   "pygments_lexer": "ipython3",
   "version": "3.6.5"
  }
 },
 "nbformat": 4,
 "nbformat_minor": 2
}
